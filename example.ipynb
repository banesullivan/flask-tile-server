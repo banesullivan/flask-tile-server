{
 "cells": [
  {
   "cell_type": "code",
   "execution_count": null,
   "id": "fd865f8c-b003-4641-88c8-f182b98b51ae",
   "metadata": {},
   "outputs": [],
   "source": [
    "from ipyleaflet import Map, projections\n",
    "from ipyleaflet import ScaleControl, FullScreenControl, SplitMapControl\n",
    "\n",
    "from localtileserver import examples\n",
    "from localtileserver import TileClient, get_leaflet_tile_layer"
   ]
  },
  {
   "attachments": {},
   "cell_type": "markdown",
   "id": "6ef89559-cf30-478a-a1b6-f69f3cc7320e",
   "metadata": {},
   "source": [
    "## Bahamas RGB"
   ]
  },
  {
   "cell_type": "code",
   "execution_count": null,
   "id": "f455f44d-9de9-42fb-aeca-d652c793eb01",
   "metadata": {},
   "outputs": [],
   "source": [
    "# First, create a tile server from raster file\n",
    "b_client = examples.get_bahamas()\n",
    "\n",
    "# Create ipyleaflet tile layer from that server\n",
    "t = get_leaflet_tile_layer(b_client)\n",
    "\n",
    "# Create ipyleaflet map, add tile layer, and display\n",
    "m = Map(center=b_client.center(), zoom=b_client.default_zoom)\n",
    "m.add(t)\n",
    "m"
   ]
  },
  {
   "cell_type": "code",
   "execution_count": null,
   "id": "917ef5ad-f8e7-4da9-a7ce-c37a7d9e38c1",
   "metadata": {},
   "outputs": [],
   "source": []
  },
  {
   "attachments": {},
   "cell_type": "markdown",
   "id": "62d2f2d6-3b8d-4c8f-a6c3-7848acf90ac3",
   "metadata": {},
   "source": [
    "## Multiband Landsat Compare"
   ]
  },
  {
   "cell_type": "code",
   "execution_count": null,
   "id": "0cba4a42-60b8-4317-a16d-7fbc854630da",
   "metadata": {},
   "outputs": [],
   "source": [
    "# First, create a tile server from raster file\n",
    "landsat_client = examples.get_landsat()\n",
    "\n",
    "# Create 2 tile layers from same raster viewing different bands\n",
    "l = get_leaflet_tile_layer(landsat_client, indexes=[7, 5, 4])\n",
    "r = get_leaflet_tile_layer(landsat_client, indexes=[5, 3, 2])\n",
    "\n",
    "# Make the ipyleaflet map\n",
    "m = Map(center=landsat_client.center(), zoom=landsat_client.default_zoom)\n",
    "control = SplitMapControl(left_layer=l, right_layer=r)\n",
    "m.add_control(control)\n",
    "m.add_control(ScaleControl(position=\"bottomleft\"))\n",
    "m.add_control(FullScreenControl())\n",
    "m"
   ]
  },
  {
   "cell_type": "code",
   "execution_count": null,
   "id": "1468bb2a-aa61-453c-a174-0dfc5a228b77",
   "metadata": {},
   "outputs": [],
   "source": []
  }
 ],
 "metadata": {
  "kernelspec": {
   "display_name": "Geospatial (rio)",
   "language": "python",
   "name": "pyenv_rio"
  },
  "language_info": {
   "codemirror_mode": {
    "name": "ipython",
    "version": 3
   },
   "file_extension": ".py",
   "mimetype": "text/x-python",
   "name": "python",
   "nbconvert_exporter": "python",
   "pygments_lexer": "ipython3",
   "version": "3.11.6"
  }
 },
 "nbformat": 4,
 "nbformat_minor": 5
}
